{
 "cells": [
  {
   "cell_type": "markdown",
   "metadata": {},
   "source": [
    "## Install Labelbox\n",
    "\n",
    "Use Python 3.5 and above\n",
    "\n",
    "https://pypi.org/project/labelbox/\n",
    "\n",
    "pip3 install labelbox"
   ]
  },
  {
   "cell_type": "markdown",
   "metadata": {},
   "source": [
    "### Import & Setup\n"
   ]
  },
  {
   "cell_type": "code",
   "execution_count": 1,
   "metadata": {},
   "outputs": [],
   "source": [
    "import os\n",
    "import labelbox\n",
    "os.environ[\"LABELBOX_API_KEY\"] = 'your_api_key'\n",
    "lb = labelbox.Client()"
   ]
  },
  {
   "cell_type": "markdown",
   "metadata": {},
   "source": [
    "### Uploading or importing data"
   ]
  },
  {
   "cell_type": "markdown",
   "metadata": {},
   "source": [
    "**Upload data from local filesystem**"
   ]
  },
  {
   "cell_type": "code",
   "execution_count": 20,
   "metadata": {},
   "outputs": [
    {
     "name": "stdout",
     "output_type": "stream",
     "text": [
      "Upload complete.\n"
     ]
    }
   ],
   "source": [
    "# Get absolute filepath from the subdirectory\n",
    "local_file_paths = [os.path.abspath(os.path.join(r,file)) for r,d,f in os.walk(\"./sample-data/\") for file in f]\n",
    "\n",
    "#Create a dataset in Labelbox and upload the files\n",
    "dataset = lb.create_dataset(name=\"Tesla dataset upload example\")\n",
    "\n",
    "## Tip: You can use this command to append an existing dataset\n",
    "task = dataset.create_data_rows(local_file_paths)\n",
    "task.wait_till_done()\n",
    "print('Upload complete.')\n"
   ]
  },
  {
   "cell_type": "markdown",
   "metadata": {},
   "source": [
    "**Import data from cloud**"
   ]
  },
  {
   "cell_type": "code",
   "execution_count": 32,
   "metadata": {},
   "outputs": [
    {
     "name": "stdout",
     "output_type": "stream",
     "text": [
      "total files to import:  115\n",
      "Import complete.\n"
     ]
    }
   ],
   "source": [
    "# Create a JSON array containing file URLs.\n",
    "cloud_file_paths = ['https://storage.googleapis.com/labelbox-example-datasets/tesla/2016-tesla-model-x_100554517_h.jpg',\n",
    " 'https://storage.googleapis.com/labelbox-example-datasets/tesla/2016-tesla-model-x_100554518_h.jpg',\n",
    " 'https://storage.googleapis.com/labelbox-example-datasets/tesla/2017-Tesla-Model-3-top-view.jpg',\n",
    " 'https://storage.googleapis.com/labelbox-example-datasets/tesla/2017-Tesla-Model-S-P90D-102.jpg',\n",
    " 'https://storage.googleapis.com/labelbox-example-datasets/tesla/2017-Tesla-Model-X-front-three-quarter-07.jpg',\n",
    " 'https://storage.googleapis.com/labelbox-example-datasets/tesla/2017-tesla-model-x-35-of-161.jpg',\n",
    " 'https://storage.googleapis.com/labelbox-example-datasets/tesla/2017_tesla_model-s_LIFE1_ot_209175_1280.jpg',\n",
    " 'https://storage.googleapis.com/labelbox-example-datasets/tesla/2018-Tesla-Model-3-front-three-quarter-in-motion.jpg',\n",
    " 'https://storage.googleapis.com/labelbox-example-datasets/tesla/Red_Bay-1440.jpg',\n",
    " 'https://storage.googleapis.com/labelbox-example-datasets/tesla/2016-tesla-model-s-17-of-43.jpg',\n",
    " 'https://storage.googleapis.com/labelbox-example-datasets/tesla/2016-tesla-model-x_100554517_h.jpg',\n",
    " 'https://storage.googleapis.com/labelbox-example-datasets/tesla/2016-tesla-model-x_100554518_h.jpg',\n",
    " 'https://storage.googleapis.com/labelbox-example-datasets/tesla/2017-Tesla-Model-3-top-view.jpg',\n",
    " 'https://storage.googleapis.com/labelbox-example-datasets/tesla/2017-Tesla-Model-S-P90D-102.jpg',\n",
    " 'https://storage.googleapis.com/labelbox-example-datasets/tesla/2017-Tesla-Model-X-front-three-quarter-07.jpg',\n",
    " 'https://storage.googleapis.com/labelbox-example-datasets/tesla/2017-tesla-model-x-35-of-161.jpg',\n",
    " 'https://storage.googleapis.com/labelbox-example-datasets/tesla/2017_tesla_model-s_LIFE1_ot_209175_1280.jpg',\n",
    " 'https://storage.googleapis.com/labelbox-example-datasets/tesla/2018-Tesla-Model-3-front-three-quarter-in-motion.jpg',\n",
    " 'https://storage.googleapis.com/labelbox-example-datasets/tesla/Red_Bay-1440.jpg',\n",
    " 'https://storage.googleapis.com/labelbox-example-datasets/tesla/2016-tesla-model-s-17-of-43.jpg',\n",
    " 'https://storage.googleapis.com/labelbox-example-datasets/tesla/2016-tesla-model-x_100554517_h.jpg',\n",
    " 'https://storage.googleapis.com/labelbox-example-datasets/tesla/2016-tesla-model-x_100554518_h.jpg',\n",
    " 'https://storage.googleapis.com/labelbox-example-datasets/tesla/2017-Tesla-Model-3-top-view.jpg',\n",
    " 'https://storage.googleapis.com/labelbox-example-datasets/tesla/2017-Tesla-Model-S-P90D-102.jpg',\n",
    " 'https://storage.googleapis.com/labelbox-example-datasets/tesla/2017-Tesla-Model-X-front-three-quarter-07.jpg',\n",
    " 'https://storage.googleapis.com/labelbox-example-datasets/tesla/2017-tesla-model-x-35-of-161.jpg',\n",
    " 'https://storage.googleapis.com/labelbox-example-datasets/tesla/2017_tesla_model-s_LIFE1_ot_209175_1280.jpg',\n",
    " 'https://storage.googleapis.com/labelbox-example-datasets/tesla/2018-Tesla-Model-3-front-three-quarter-in-motion.jpg',\n",
    " 'https://storage.googleapis.com/labelbox-example-datasets/tesla/Red_Bay-1440.jpg',\n",
    " 'https://storage.googleapis.com/labelbox-example-datasets/tesla/2016-tesla-model-s-17-of-43.jpg',\n",
    " 'https://storage.googleapis.com/labelbox-example-datasets/tesla/2016-tesla-model-x_100554517_h.jpg',\n",
    " 'https://storage.googleapis.com/labelbox-example-datasets/tesla/2016-tesla-model-x_100554518_h.jpg',\n",
    " 'https://storage.googleapis.com/labelbox-example-datasets/tesla/2017-Tesla-Model-3-top-view.jpg',\n",
    " 'https://storage.googleapis.com/labelbox-example-datasets/tesla/2017-Tesla-Model-S-P90D-102.jpg',\n",
    " 'https://storage.googleapis.com/labelbox-example-datasets/tesla/2017-Tesla-Model-X-front-three-quarter-07.jpg',\n",
    " 'https://storage.googleapis.com/labelbox-example-datasets/tesla/2017-tesla-model-x-35-of-161.jpg',\n",
    " 'https://storage.googleapis.com/labelbox-example-datasets/tesla/2017_tesla_model-s_LIFE1_ot_209175_1280.jpg',\n",
    " 'https://storage.googleapis.com/labelbox-example-datasets/tesla/2018-Tesla-Model-3-front-three-quarter-in-motion.jpg',\n",
    " 'https://storage.googleapis.com/labelbox-example-datasets/tesla/Red_Bay-1440.jpg',\n",
    " 'https://storage.googleapis.com/labelbox-example-datasets/tesla/104836109-p100d-review-5.1910x1000.jpeg',\n",
    " 'https://storage.googleapis.com/labelbox-example-datasets/tesla/2012_tesla_model-s_sedan_signature-performance_rq_oem_2_1280.jpg',\n",
    " 'https://storage.googleapis.com/labelbox-example-datasets/tesla/2014_tesla_model-s_sedan_p85_rq_oem_1_1280.jpg',\n",
    " 'https://storage.googleapis.com/labelbox-example-datasets/tesla/2016-Tesla-Model-S-P90D-front-three-quarter.jpg',\n",
    " 'https://storage.googleapis.com/labelbox-example-datasets/tesla/2016-Tesla-Model-X-75d-rear-three-quarter-in-motion-03.jpg',\n",
    " 'https://storage.googleapis.com/labelbox-example-datasets/tesla/2016-Tesla-Model-X-75d-side-profile.jpg',\n",
    " 'https://storage.googleapis.com/labelbox-example-datasets/tesla/2016-tesla-model-s-17-of-43.jpg',\n",
    " 'https://storage.googleapis.com/labelbox-example-datasets/tesla/2016-tesla-model-x_100554517_h.jpg',\n",
    " 'https://storage.googleapis.com/labelbox-example-datasets/tesla/2016-tesla-model-x_100554518_h.jpg',\n",
    " 'https://storage.googleapis.com/labelbox-example-datasets/tesla/2017-Tesla-Model-3-top-view.jpg',\n",
    " 'https://storage.googleapis.com/labelbox-example-datasets/tesla/2017-Tesla-Model-S-P90D-102.jpg',\n",
    " 'https://storage.googleapis.com/labelbox-example-datasets/tesla/2017-Tesla-Model-X-front-three-quarter-07.jpg',\n",
    " 'https://storage.googleapis.com/labelbox-example-datasets/tesla/2017-tesla-model-x-35-of-161.jpg',\n",
    " 'https://storage.googleapis.com/labelbox-example-datasets/tesla/2017_tesla_model-s_LIFE1_ot_209175_1280.jpg',\n",
    " 'https://storage.googleapis.com/labelbox-example-datasets/tesla/2018-Tesla-Model-3-front-three-quarter-in-motion.jpg',\n",
    " 'https://storage.googleapis.com/labelbox-example-datasets/tesla/2120x920-ms-redsunset-1-1.jpg',\n",
    " 'https://storage.googleapis.com/labelbox-example-datasets/tesla/Red_Bay-1440.jpg',\n",
    " 'https://storage.googleapis.com/labelbox-example-datasets/tesla/Red_Profile-1440.jpg',\n",
    " 'https://storage.googleapis.com/labelbox-example-datasets/tesla/Tesla-Model-3-lead-.jpg',\n",
    " 'https://storage.googleapis.com/labelbox-example-datasets/tesla/Tesla-Model-X-1.jpg',\n",
    " 'https://storage.googleapis.com/labelbox-example-datasets/tesla/Tesla-Model3-FINAL.jpg',\n",
    " 'https://storage.googleapis.com/labelbox-example-datasets/tesla/Tesla_model_3_prototype.jpg',\n",
    " 'https://storage.googleapis.com/labelbox-example-datasets/tesla/USC70TSC024B021001.jpg',\n",
    " 'https://storage.googleapis.com/labelbox-example-datasets/tesla/White_Cruise-1440.jpg',\n",
    " 'https://storage.googleapis.com/labelbox-example-datasets/tesla/download.jpeg',\n",
    " 'https://storage.googleapis.com/labelbox-example-datasets/tesla/maxresdefault (1).jpg',\n",
    " 'https://storage.googleapis.com/labelbox-example-datasets/tesla/maxresdefault.jpg',\n",
    " 'https://storage.googleapis.com/labelbox-example-datasets/tesla/model-3-mountain-pearl-1.jpg',\n",
    " 'https://storage.googleapis.com/labelbox-example-datasets/tesla/model-3-social.jpg',\n",
    " 'https://storage.googleapis.com/labelbox-example-datasets/tesla/press05-model-x-profile-doors-open.jpg',\n",
    " 'https://storage.googleapis.com/labelbox-example-datasets/tesla/screen-shot-2015-09-01-at-10-11-14-am.png',\n",
    " 'https://storage.googleapis.com/labelbox-example-datasets/tesla/screen-shot-2017-10-26-at-6-54-43-am-e1510873759643.jpg',\n",
    " 'https://storage.googleapis.com/labelbox-example-datasets/tesla/tesla-model-3-hero-image.jpg',\n",
    " 'https://storage.googleapis.com/labelbox-example-datasets/tesla/tesla-model-3-silver-prototype-promo-shot-headlands.jpg',\n",
    " 'https://storage.googleapis.com/labelbox-example-datasets/tesla/tesla-model-x-720x409.jpg',\n",
    " 'https://storage.googleapis.com/labelbox-example-datasets/tesla/tesla-model-x-promo-shot-3-2.jpg',\n",
    " 'https://storage.googleapis.com/labelbox-example-datasets/tesla/teslamodel3-005.jpg',\n",
    " 'https://storage.googleapis.com/labelbox-example-datasets/tesla/twarren_08202017_1939_0003.0.jpg',\n",
    " 'https://storage.googleapis.com/labelbox-example-datasets/tesla/104836109-p100d-review-5.1910x1000.jpeg',\n",
    " 'https://storage.googleapis.com/labelbox-example-datasets/tesla/2012_tesla_model-s_sedan_signature-performance_rq_oem_2_1280.jpg',\n",
    " 'https://storage.googleapis.com/labelbox-example-datasets/tesla/2014_tesla_model-s_sedan_p85_rq_oem_1_1280.jpg',\n",
    " 'https://storage.googleapis.com/labelbox-example-datasets/tesla/2016-Tesla-Model-S-P90D-front-three-quarter.jpg',\n",
    " 'https://storage.googleapis.com/labelbox-example-datasets/tesla/2016-Tesla-Model-X-75d-rear-three-quarter-in-motion-03.jpg',\n",
    " 'https://storage.googleapis.com/labelbox-example-datasets/tesla/2016-Tesla-Model-X-75d-side-profile.jpg',\n",
    " 'https://storage.googleapis.com/labelbox-example-datasets/tesla/2016-tesla-model-s-17-of-43.jpg',\n",
    " 'https://storage.googleapis.com/labelbox-example-datasets/tesla/2016-tesla-model-x_100554517_h.jpg',\n",
    " 'https://storage.googleapis.com/labelbox-example-datasets/tesla/2016-tesla-model-x_100554518_h.jpg',\n",
    " 'https://storage.googleapis.com/labelbox-example-datasets/tesla/2017-Tesla-Model-3-top-view.jpg',\n",
    " 'https://storage.googleapis.com/labelbox-example-datasets/tesla/2017-Tesla-Model-S-P90D-102.jpg',\n",
    " 'https://storage.googleapis.com/labelbox-example-datasets/tesla/2017-Tesla-Model-X-front-three-quarter-07.jpg',\n",
    " 'https://storage.googleapis.com/labelbox-example-datasets/tesla/2017-tesla-model-x-35-of-161.jpg',\n",
    " 'https://storage.googleapis.com/labelbox-example-datasets/tesla/2017_tesla_model-s_LIFE1_ot_209175_1280.jpg',\n",
    " 'https://storage.googleapis.com/labelbox-example-datasets/tesla/2018-Tesla-Model-3-front-three-quarter-in-motion.jpg',\n",
    " 'https://storage.googleapis.com/labelbox-example-datasets/tesla/2120x920-ms-redsunset-1-1.jpg',\n",
    " 'https://storage.googleapis.com/labelbox-example-datasets/tesla/Red_Bay-1440.jpg',\n",
    " 'https://storage.googleapis.com/labelbox-example-datasets/tesla/Red_Profile-1440.jpg',\n",
    " 'https://storage.googleapis.com/labelbox-example-datasets/tesla/Tesla-Model-3-lead-.jpg',\n",
    " 'https://storage.googleapis.com/labelbox-example-datasets/tesla/Tesla-Model-X-1.jpg',\n",
    " 'https://storage.googleapis.com/labelbox-example-datasets/tesla/Tesla-Model3-FINAL.jpg',\n",
    " 'https://storage.googleapis.com/labelbox-example-datasets/tesla/Tesla_model_3_prototype.jpg',\n",
    " 'https://storage.googleapis.com/labelbox-example-datasets/tesla/USC70TSC024B021001.jpg',\n",
    " 'https://storage.googleapis.com/labelbox-example-datasets/tesla/White_Cruise-1440.jpg',\n",
    " 'https://storage.googleapis.com/labelbox-example-datasets/tesla/download.jpeg',\n",
    " 'https://storage.googleapis.com/labelbox-example-datasets/tesla/maxresdefault (1).jpg',\n",
    " 'https://storage.googleapis.com/labelbox-example-datasets/tesla/maxresdefault.jpg',\n",
    " 'https://storage.googleapis.com/labelbox-example-datasets/tesla/model-3-mountain-pearl-1.jpg',\n",
    " 'https://storage.googleapis.com/labelbox-example-datasets/tesla/model-3-social.jpg',\n",
    " 'https://storage.googleapis.com/labelbox-example-datasets/tesla/press05-model-x-profile-doors-open.jpg',\n",
    " 'https://storage.googleapis.com/labelbox-example-datasets/tesla/screen-shot-2015-09-01-at-10-11-14-am.png',\n",
    " 'https://storage.googleapis.com/labelbox-example-datasets/tesla/screen-shot-2017-10-26-at-6-54-43-am-e1510873759643.jpg',\n",
    " 'https://storage.googleapis.com/labelbox-example-datasets/tesla/tesla-model-3-hero-image.jpg',\n",
    " 'https://storage.googleapis.com/labelbox-example-datasets/tesla/tesla-model-3-silver-prototype-promo-shot-headlands.jpg',\n",
    " 'https://storage.googleapis.com/labelbox-example-datasets/tesla/tesla-model-x-720x409.jpg',\n",
    " 'https://storage.googleapis.com/labelbox-example-datasets/tesla/tesla-model-x-promo-shot-3-2.jpg',\n",
    " 'https://storage.googleapis.com/labelbox-example-datasets/tesla/teslamodel3-005.jpg',\n",
    " 'https://storage.googleapis.com/labelbox-example-datasets/tesla/twarren_08202017_1939_0003.0.jpg']\n",
    "\n",
    "print('Total number of files to import: ', len(cloud_file_paths))\n",
    "\n",
    "#Create a dataset in Labelbox \n",
    "dataset = lb.create_dataset(name=\"Tesla dataset import example\")\n",
    "\n",
    "#Create an array of labelbox datarows\n",
    "converted_cloud_file_paths = []\n",
    "for path in cloud_file_paths:\n",
    "    converted_cloud_file_paths.append({labelbox.DataRow.row_data: path})\n",
    "\n",
    "## Tip: You can use this command to append an existing dataset\n",
    "task = dataset.create_data_rows(converted_cloud_file_paths)\n",
    "task.wait_till_done()\n",
    "print('Import complete.')"
   ]
  },
  {
   "cell_type": "markdown",
   "metadata": {},
   "source": [
    "**Import data from cloud and set external ID**"
   ]
  },
  {
   "cell_type": "code",
   "execution_count": 41,
   "metadata": {},
   "outputs": [
    {
     "name": "stdout",
     "output_type": "stream",
     "text": [
      "Total number of files to import:  115\n",
      "Import complete.\n"
     ]
    }
   ],
   "source": [
    "print('Total number of files to import: ', len(cloud_file_paths))\n",
    "\n",
    "#Create a dataset in Labelbox \n",
    "dataset = lb.create_dataset(name=\"Tesla dataset import example with external ID\")\n",
    "\n",
    "#Create an array of labelbox datarows and set filename as external ID\n",
    "converted_cloud_file_paths = []\n",
    "for path in cloud_file_paths:\n",
    "    converted_cloud_file_paths.append({labelbox.DataRow.row_data: path, labelbox.DataRow.external_id: os.path.basename(path)})\n",
    "\n",
    "## Tip: You can use this command to append an existing dataset\n",
    "task = dataset.create_data_rows(converted_cloud_file_paths)\n",
    "task.wait_till_done()\n",
    "print('Import complete.')"
   ]
  },
  {
   "cell_type": "markdown",
   "metadata": {},
   "source": [
    "**Get all dataset in your account and print name & uid**"
   ]
  },
  {
   "cell_type": "code",
   "execution_count": 39,
   "metadata": {
    "scrolled": true
   },
   "outputs": [
    {
     "name": "stdout",
     "output_type": "stream",
     "text": [
      "Tesla dataset import example ck0bm56x641930838irsx0240\n",
      "Tesla dataset import example ck0bm8epc2f8c0794giph9y0p\n",
      "Tesla dataset import example with external ID ck0bmu2dn4pdx0944339jeyh8\n"
     ]
    }
   ],
   "source": [
    "for dataset in list(lb.get_datasets())[:]:\n",
    "    print(dataset.name, dataset.uid)"
   ]
  },
  {
   "cell_type": "markdown",
   "metadata": {},
   "source": [
    "**Get all projects in your account and print name & uid**"
   ]
  },
  {
   "cell_type": "code",
   "execution_count": 7,
   "metadata": {
    "scrolled": true
   },
   "outputs": [
    {
     "name": "stdout",
     "output_type": "stream",
     "text": [
      "Image classification ck08mqe2iqzly072171yglspn\n",
      "Retail  ck071b5y54yvk0794i40stwxj\n",
      "ILA demo cjsgltyg1o2kd0812igh0f4eb\n"
     ]
    }
   ],
   "source": [
    "for project in list(lb.get_projects())[:]:\n",
    "    print(project.name, project.uid)"
   ]
  },
  {
   "cell_type": "markdown",
   "metadata": {},
   "source": [
    "**Create a project and attach the dataset**"
   ]
  },
  {
   "cell_type": "code",
   "execution_count": 9,
   "metadata": {
    "scrolled": false
   },
   "outputs": [
    {
     "data": {
      "text/plain": [
       "[<Dataset ID: ck08sih943gqb084888jjl0g0>]"
      ]
     },
     "execution_count": 9,
     "metadata": {},
     "output_type": "execute_result"
    }
   ],
   "source": [
    "project = lb.create_project(name=\"Created From Pip\")\n",
    "project.datasets.connect(dataset)\n",
    "list(project.datasets())"
   ]
  },
  {
   "cell_type": "markdown",
   "metadata": {},
   "source": [
    "**Delete this project & dataset**"
   ]
  },
  {
   "cell_type": "code",
   "execution_count": 5,
   "metadata": {},
   "outputs": [],
   "source": [
    "dataset.delete()\n",
    "project.delete()"
   ]
  },
  {
   "cell_type": "markdown",
   "metadata": {},
   "source": [
    "**Get all datarows within a dataset**"
   ]
  },
  {
   "cell_type": "code",
   "execution_count": null,
   "metadata": {},
   "outputs": [],
   "source": [
    "dataset = lb.get_dataset('cjhfn5yjt0pka0702rojkb05t')\n",
    "for data_row in dataset.data_rows():\n",
    "    print(data_row)"
   ]
  }
 ],
 "metadata": {
  "kernelspec": {
   "display_name": "Python 3",
   "language": "python",
   "name": "python3"
  },
  "language_info": {
   "codemirror_mode": {
    "name": "ipython",
    "version": 3
   },
   "file_extension": ".py",
   "mimetype": "text/x-python",
   "name": "python",
   "nbconvert_exporter": "python",
   "pygments_lexer": "ipython3",
   "version": "3.6.6"
  }
 },
 "nbformat": 4,
 "nbformat_minor": 2
}
